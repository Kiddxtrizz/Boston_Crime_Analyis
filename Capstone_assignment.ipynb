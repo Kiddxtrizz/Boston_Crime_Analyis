{
 "cells": [
  {
   "cell_type": "markdown",
   "metadata": {},
   "source": [
    "# Boston Crime Analysis"
   ]
  },
  {
   "cell_type": "markdown",
   "metadata": {},
   "source": [
    "## By: Trey Williams"
   ]
  },
  {
   "cell_type": "markdown",
   "metadata": {},
   "source": [
    "**Background:**\n",
    "\n",
    "Crime incident reports are provided by Boston Police Department (BPD) to document the initial details surrounding an incident to which BPD officers respond. This is a dataset containing records from the new crime incident report system, which includes a reduced set of fields focused on capturing the type of incident as well as when and where it occurred. Records in the new system begin in June of 2015.\n",
    "\n",
    "Find more information: https://data.boston.gov/dataset/crime-incident-reports-august-2015-to-date-source-new-system \n",
    "<br>The website also includes a data dictionary!<br>\n",
    "\n",
    "-------\n",
    "**Additional Information**\n",
    "\n",
    "The Analyze Boston Data Exports posted now are the updated incident data from the Mark43 RMS Database which launched in September of 2019 and is complete through present with the exclusion of data that falls under MGL ch.41 s.98f. The 2019 data that was originally posted contained combined exports from the Intergraph RMS and the Mark43 RMS during 2019 but the Extract/Transfer/Load process was not updated during the transition. We are continuing work on producing the gap data from January 2019 to September 2019 from our legacy Intregraph RMS and will be publishing this as soon as the work is complete.\n"
   ]
  },
  {
   "cell_type": "markdown",
   "metadata": {
    "jp-MarkdownHeadingCollapsed": true,
    "tags": []
   },
   "source": [
    "## Project Charter"
   ]
  },
  {
   "cell_type": "markdown",
   "metadata": {},
   "source": [
    "## Project Description\n",
    "As a lifelong Boston resident, I wanted to learn more about crimes committed within Boston. Thankfully, the Boston Police Department (BPD) provides incident reporting data for public use. I have collected several datasets from https://data.boston.gov/dataset/crime-incident-reports-august-2015-to-date-source-new-system starting from 2017-2021.  Moreover, the datasets are comprised of records from the new crime incident reporting system, which includes a reduced set of fields focused on capturing the type of incident and when and where it occurred. \n",
    "\n",
    "### Total sample size (n=314597)\n",
    "\n",
    "#### Size Breakdown\n",
    "* 2017 (n=101338)  \n",
    "* 2018 (n=98888)\n",
    "* 2020 (n=70894)\n",
    "* both 2019 (n=19782 | Sep-Dec) and 2021 (n=25279 | Jan - May) are partial years. \n",
    "\n",
    " \n",
    "+ **Total size: 54.5 MB** \n",
    "\n",
    "## Needs of this project\n",
    "\n",
    "- data exploration/descriptive statistics\n",
    "- data processing/cleaning\n",
    "- statistical modeling\n",
    "- writeup/reporting\n",
    "**Business Requirements/Understanding:**\n",
    "\n",
    "1. What are top offenses committed in the city?\n",
    "2. Are certain crimes committed during a specific time-period?\n",
    "3. Does geography play a role in particular crimes being commited?\n",
    "4. Has crime decreased or increased over time?\n",
    "    * What types of offesens remain relevant (stats-quo)\n",
    "    * Newer crimes being committed \n",
    "    * Has a specific occurence of a particular offense decreased over time?\n",
    "5. Can we determine high risk areas based on a set of features?\n",
    "\n",
    "**Overview:**\n",
    "\n",
    "I plan to utilize the [CRISP-DM](https://www.datascience-pm.com/crisp-dm-2/) process model for this project:\n",
    "1.    Business understanding – What does the business need?\n",
    "2.    Data understanding – What data do we have / need? Is it clean?\n",
    "3.    Data preparation – How do we organize the data for modeling?\n",
    "4.    Modeling – What modeling techniques should we apply?\n",
    "5.    Evaluation – Which model best meets the business objectives?\n",
    "6.    Deployment – How do stakeholders access the results?\n",
    "\n",
    "![crisp-dm](https://www.kdnuggets.com/wp-content/uploads/crisp-dm-4-problems-fig1.png)\n"
   ]
  },
  {
   "cell_type": "markdown",
   "metadata": {},
   "source": [
    "# Import Libraries"
   ]
  },
  {
   "cell_type": "code",
   "execution_count": 1,
   "metadata": {},
   "outputs": [],
   "source": [
    "import os \n",
    "import glob\n",
    "import datetime as date \n",
    "\n",
    "import numpy as np \n",
    "import pandas as pd\n",
    "import matplotlib.pyplot as plt\n",
    "import seaborn as sns\n",
    "\n",
    "\n",
    "\n",
    "from sklearn.cluster import KMeans\n",
    "from scipy.cluster.hierarchy import dendrogram, linkage\n",
    "from sklearn.compose import ColumnTransformer  \n",
    "from sklearn.model_selection import GridSearchCV\n",
    "from sklearn.pipeline import Pipeline\n",
    "\n",
    "sns.set()"
   ]
  },
  {
   "cell_type": "markdown",
   "metadata": {
    "tags": []
   },
   "source": [
    "## Gather Data"
   ]
  },
  {
   "cell_type": "code",
   "execution_count": 2,
   "metadata": {},
   "outputs": [],
   "source": [
    "cwd = os.getcwd()"
   ]
  },
  {
   "cell_type": "code",
   "execution_count": 3,
   "metadata": {},
   "outputs": [],
   "source": [
    "files = glob.glob('Data/*.csv')"
   ]
  },
  {
   "cell_type": "code",
   "execution_count": 4,
   "metadata": {},
   "outputs": [
    {
     "name": "stdout",
     "output_type": "stream",
     "text": [
      "Wall time: 1.38 s\n"
     ]
    }
   ],
   "source": [
    "%%time \n",
    "data = list()\n",
    "\n",
    "for _ in files:\n",
    "    data.append(pd.read_csv(_, low_memory=False))\n",
    "    \n",
    "df = pd.concat(data).reset_index(drop=True)"
   ]
  },
  {
   "cell_type": "code",
   "execution_count": 5,
   "metadata": {},
   "outputs": [
    {
     "data": {
      "text/html": [
       "<div>\n",
       "<style scoped>\n",
       "    .dataframe tbody tr th:only-of-type {\n",
       "        vertical-align: middle;\n",
       "    }\n",
       "\n",
       "    .dataframe tbody tr th {\n",
       "        vertical-align: top;\n",
       "    }\n",
       "\n",
       "    .dataframe thead th {\n",
       "        text-align: right;\n",
       "    }\n",
       "</style>\n",
       "<table border=\"1\" class=\"dataframe\">\n",
       "  <thead>\n",
       "    <tr style=\"text-align: right;\">\n",
       "      <th></th>\n",
       "      <th>INCIDENT_NUMBER</th>\n",
       "      <th>OFFENSE_CODE</th>\n",
       "      <th>OFFENSE_CODE_GROUP</th>\n",
       "      <th>OFFENSE_DESCRIPTION</th>\n",
       "      <th>DISTRICT</th>\n",
       "      <th>REPORTING_AREA</th>\n",
       "      <th>SHOOTING</th>\n",
       "      <th>OCCURRED_ON_DATE</th>\n",
       "      <th>YEAR</th>\n",
       "      <th>MONTH</th>\n",
       "      <th>DAY_OF_WEEK</th>\n",
       "      <th>HOUR</th>\n",
       "      <th>UCR_PART</th>\n",
       "      <th>STREET</th>\n",
       "      <th>Lat</th>\n",
       "      <th>Long</th>\n",
       "      <th>Location</th>\n",
       "    </tr>\n",
       "  </thead>\n",
       "  <tbody>\n",
       "    <tr>\n",
       "      <th>0</th>\n",
       "      <td>I192074488</td>\n",
       "      <td>619</td>\n",
       "      <td>Larceny</td>\n",
       "      <td>LARCENY ALL OTHERS</td>\n",
       "      <td>C11</td>\n",
       "      <td>351</td>\n",
       "      <td>NaN</td>\n",
       "      <td>2017-08-23 00:00:00</td>\n",
       "      <td>2017</td>\n",
       "      <td>8</td>\n",
       "      <td>Wednesday</td>\n",
       "      <td>0</td>\n",
       "      <td>Part One</td>\n",
       "      <td>ADAMS ST</td>\n",
       "      <td>42.300605</td>\n",
       "      <td>-71.059230</td>\n",
       "      <td>(42.30060526, -71.05923027)</td>\n",
       "    </tr>\n",
       "    <tr>\n",
       "      <th>1</th>\n",
       "      <td>I192073511</td>\n",
       "      <td>1107</td>\n",
       "      <td>Fraud</td>\n",
       "      <td>FRAUD - IMPERSONATION</td>\n",
       "      <td>B3</td>\n",
       "      <td>435</td>\n",
       "      <td>NaN</td>\n",
       "      <td>2017-02-21 00:01:00</td>\n",
       "      <td>2017</td>\n",
       "      <td>2</td>\n",
       "      <td>Tuesday</td>\n",
       "      <td>0</td>\n",
       "      <td>Part Two</td>\n",
       "      <td>ARMANDINE ST</td>\n",
       "      <td>42.284315</td>\n",
       "      <td>-71.074108</td>\n",
       "      <td>(42.28431486, -71.07410838)</td>\n",
       "    </tr>\n",
       "    <tr>\n",
       "      <th>2</th>\n",
       "      <td>I192073187</td>\n",
       "      <td>2629</td>\n",
       "      <td>Harassment</td>\n",
       "      <td>HARASSMENT</td>\n",
       "      <td>C6</td>\n",
       "      <td>231</td>\n",
       "      <td>NaN</td>\n",
       "      <td>2017-07-13 00:00:00</td>\n",
       "      <td>2017</td>\n",
       "      <td>7</td>\n",
       "      <td>Thursday</td>\n",
       "      <td>0</td>\n",
       "      <td>Part Two</td>\n",
       "      <td>E FIFTH ST</td>\n",
       "      <td>42.333989</td>\n",
       "      <td>-71.032606</td>\n",
       "      <td>(42.33398889, -71.03260574)</td>\n",
       "    </tr>\n",
       "    <tr>\n",
       "      <th>3</th>\n",
       "      <td>I192072907</td>\n",
       "      <td>802</td>\n",
       "      <td>Simple Assault</td>\n",
       "      <td>ASSAULT SIMPLE - BATTERY</td>\n",
       "      <td>D4</td>\n",
       "      <td>171</td>\n",
       "      <td>NaN</td>\n",
       "      <td>2017-09-01 16:32:00</td>\n",
       "      <td>2017</td>\n",
       "      <td>9</td>\n",
       "      <td>Friday</td>\n",
       "      <td>16</td>\n",
       "      <td>Part Two</td>\n",
       "      <td>HARRISON AVE</td>\n",
       "      <td>42.335119</td>\n",
       "      <td>-71.074917</td>\n",
       "      <td>(42.33511904, -71.07491710)</td>\n",
       "    </tr>\n",
       "    <tr>\n",
       "      <th>4</th>\n",
       "      <td>I192072900</td>\n",
       "      <td>1102</td>\n",
       "      <td>Fraud</td>\n",
       "      <td>FRAUD - FALSE PRETENSE / SCHEME</td>\n",
       "      <td>D4</td>\n",
       "      <td>151</td>\n",
       "      <td>NaN</td>\n",
       "      <td>2017-09-01 00:00:00</td>\n",
       "      <td>2017</td>\n",
       "      <td>9</td>\n",
       "      <td>Friday</td>\n",
       "      <td>0</td>\n",
       "      <td>Part Two</td>\n",
       "      <td>WARREN AVE</td>\n",
       "      <td>42.345163</td>\n",
       "      <td>-71.071291</td>\n",
       "      <td>(42.34516350, -71.07129114)</td>\n",
       "    </tr>\n",
       "  </tbody>\n",
       "</table>\n",
       "</div>"
      ],
      "text/plain": [
       "  INCIDENT_NUMBER  OFFENSE_CODE OFFENSE_CODE_GROUP  \\\n",
       "0      I192074488           619            Larceny   \n",
       "1      I192073511          1107              Fraud   \n",
       "2      I192073187          2629         Harassment   \n",
       "3      I192072907           802     Simple Assault   \n",
       "4      I192072900          1102              Fraud   \n",
       "\n",
       "               OFFENSE_DESCRIPTION DISTRICT REPORTING_AREA SHOOTING  \\\n",
       "0               LARCENY ALL OTHERS      C11            351      NaN   \n",
       "1            FRAUD - IMPERSONATION       B3            435      NaN   \n",
       "2                       HARASSMENT       C6            231      NaN   \n",
       "3         ASSAULT SIMPLE - BATTERY       D4            171      NaN   \n",
       "4  FRAUD - FALSE PRETENSE / SCHEME       D4            151      NaN   \n",
       "\n",
       "      OCCURRED_ON_DATE  YEAR  MONTH DAY_OF_WEEK  HOUR  UCR_PART        STREET  \\\n",
       "0  2017-08-23 00:00:00  2017      8   Wednesday     0  Part One      ADAMS ST   \n",
       "1  2017-02-21 00:01:00  2017      2     Tuesday     0  Part Two  ARMANDINE ST   \n",
       "2  2017-07-13 00:00:00  2017      7    Thursday     0  Part Two    E FIFTH ST   \n",
       "3  2017-09-01 16:32:00  2017      9      Friday    16  Part Two  HARRISON AVE   \n",
       "4  2017-09-01 00:00:00  2017      9      Friday     0  Part Two    WARREN AVE   \n",
       "\n",
       "         Lat       Long                     Location  \n",
       "0  42.300605 -71.059230  (42.30060526, -71.05923027)  \n",
       "1  42.284315 -71.074108  (42.28431486, -71.07410838)  \n",
       "2  42.333989 -71.032606  (42.33398889, -71.03260574)  \n",
       "3  42.335119 -71.074917  (42.33511904, -71.07491710)  \n",
       "4  42.345163 -71.071291  (42.34516350, -71.07129114)  "
      ]
     },
     "execution_count": 5,
     "metadata": {},
     "output_type": "execute_result"
    }
   ],
   "source": [
    "# df = pd.read_excel('crime_analysis_data.xlsx')\n",
    "df.head()"
   ]
  },
  {
   "cell_type": "markdown",
   "metadata": {},
   "source": [
    "## Explanatory Data Analysis"
   ]
  },
  {
   "cell_type": "code",
   "execution_count": 6,
   "metadata": {},
   "outputs": [
    {
     "name": "stdout",
     "output_type": "stream",
     "text": [
      "<class 'pandas.core.frame.DataFrame'>\n",
      "RangeIndex: 316181 entries, 0 to 316180\n",
      "Data columns (total 17 columns):\n",
      " #   Column               Non-Null Count   Dtype  \n",
      "---  ------               --------------   -----  \n",
      " 0   INCIDENT_NUMBER      316181 non-null  object \n",
      " 1   OFFENSE_CODE         316181 non-null  int64  \n",
      " 2   OFFENSE_CODE_GROUP   200226 non-null  object \n",
      " 3   OFFENSE_DESCRIPTION  316181 non-null  object \n",
      " 4   DISTRICT             314534 non-null  object \n",
      " 5   REPORTING_AREA       316181 non-null  object \n",
      " 6   SHOOTING             116814 non-null  object \n",
      " 7   OCCURRED_ON_DATE     316181 non-null  object \n",
      " 8   YEAR                 316181 non-null  int64  \n",
      " 9   MONTH                316181 non-null  int64  \n",
      " 10  DAY_OF_WEEK          316181 non-null  object \n",
      " 11  HOUR                 316181 non-null  int64  \n",
      " 12  UCR_PART             200167 non-null  object \n",
      " 13  STREET               311859 non-null  object \n",
      " 14  Lat                  302723 non-null  float64\n",
      " 15  Long                 302723 non-null  float64\n",
      " 16  Location             316181 non-null  object \n",
      "dtypes: float64(2), int64(4), object(11)\n",
      "memory usage: 41.0+ MB\n"
     ]
    }
   ],
   "source": [
    "# Get the dtypes\n",
    "df.info()"
   ]
  },
  {
   "cell_type": "code",
   "execution_count": 7,
   "metadata": {},
   "outputs": [
    {
     "data": {
      "text/html": [
       "<div>\n",
       "<style scoped>\n",
       "    .dataframe tbody tr th:only-of-type {\n",
       "        vertical-align: middle;\n",
       "    }\n",
       "\n",
       "    .dataframe tbody tr th {\n",
       "        vertical-align: top;\n",
       "    }\n",
       "\n",
       "    .dataframe thead th {\n",
       "        text-align: right;\n",
       "    }\n",
       "</style>\n",
       "<table border=\"1\" class=\"dataframe\">\n",
       "  <thead>\n",
       "    <tr style=\"text-align: right;\">\n",
       "      <th></th>\n",
       "      <th>INCIDENT_NUMBER</th>\n",
       "      <th>OFFENSE_CODE</th>\n",
       "      <th>OFFENSE_CODE_GROUP</th>\n",
       "      <th>OFFENSE_DESCRIPTION</th>\n",
       "      <th>DISTRICT</th>\n",
       "      <th>REPORTING_AREA</th>\n",
       "      <th>SHOOTING</th>\n",
       "      <th>OCCURRED_ON_DATE</th>\n",
       "      <th>YEAR</th>\n",
       "      <th>MONTH</th>\n",
       "      <th>DAY_OF_WEEK</th>\n",
       "      <th>HOUR</th>\n",
       "      <th>UCR_PART</th>\n",
       "      <th>STREET</th>\n",
       "      <th>Lat</th>\n",
       "      <th>Long</th>\n",
       "      <th>Location</th>\n",
       "    </tr>\n",
       "  </thead>\n",
       "  <tbody>\n",
       "    <tr>\n",
       "      <th>count</th>\n",
       "      <td>316181</td>\n",
       "      <td>316181.000000</td>\n",
       "      <td>200226</td>\n",
       "      <td>316181</td>\n",
       "      <td>314534</td>\n",
       "      <td>316181</td>\n",
       "      <td>116814.0</td>\n",
       "      <td>316181</td>\n",
       "      <td>316181.000000</td>\n",
       "      <td>316181.000000</td>\n",
       "      <td>316181</td>\n",
       "      <td>316181.000000</td>\n",
       "      <td>200167</td>\n",
       "      <td>311859</td>\n",
       "      <td>302723.000000</td>\n",
       "      <td>3.027230e+05</td>\n",
       "      <td>316181</td>\n",
       "    </tr>\n",
       "    <tr>\n",
       "      <th>unique</th>\n",
       "      <td>292175</td>\n",
       "      <td>NaN</td>\n",
       "      <td>66</td>\n",
       "      <td>244</td>\n",
       "      <td>13</td>\n",
       "      <td>880</td>\n",
       "      <td>3.0</td>\n",
       "      <td>239067</td>\n",
       "      <td>NaN</td>\n",
       "      <td>NaN</td>\n",
       "      <td>7</td>\n",
       "      <td>NaN</td>\n",
       "      <td>4</td>\n",
       "      <td>11860</td>\n",
       "      <td>NaN</td>\n",
       "      <td>NaN</td>\n",
       "      <td>30819</td>\n",
       "    </tr>\n",
       "    <tr>\n",
       "      <th>top</th>\n",
       "      <td>I172053750</td>\n",
       "      <td>NaN</td>\n",
       "      <td>Motor Vehicle Accident Response</td>\n",
       "      <td>INVESTIGATE PERSON</td>\n",
       "      <td>B2</td>\n",
       "      <td></td>\n",
       "      <td>0.0</td>\n",
       "      <td>2017-06-01 00:00:00</td>\n",
       "      <td>NaN</td>\n",
       "      <td>NaN</td>\n",
       "      <td>Friday</td>\n",
       "      <td>NaN</td>\n",
       "      <td>Part Three</td>\n",
       "      <td>WASHINGTON ST</td>\n",
       "      <td>NaN</td>\n",
       "      <td>NaN</td>\n",
       "      <td>(0.00000000, 0.00000000)</td>\n",
       "    </tr>\n",
       "    <tr>\n",
       "      <th>freq</th>\n",
       "      <td>18</td>\n",
       "      <td>NaN</td>\n",
       "      <td>23701</td>\n",
       "      <td>20817</td>\n",
       "      <td>48436</td>\n",
       "      <td>27743</td>\n",
       "      <td>114288.0</td>\n",
       "      <td>33</td>\n",
       "      <td>NaN</td>\n",
       "      <td>NaN</td>\n",
       "      <td>48169</td>\n",
       "      <td>NaN</td>\n",
       "      <td>103882</td>\n",
       "      <td>14502</td>\n",
       "      <td>NaN</td>\n",
       "      <td>NaN</td>\n",
       "      <td>13458</td>\n",
       "    </tr>\n",
       "    <tr>\n",
       "      <th>mean</th>\n",
       "      <td>NaN</td>\n",
       "      <td>2348.906965</td>\n",
       "      <td>NaN</td>\n",
       "      <td>NaN</td>\n",
       "      <td>NaN</td>\n",
       "      <td>NaN</td>\n",
       "      <td>NaN</td>\n",
       "      <td>NaN</td>\n",
       "      <td>2018.430352</td>\n",
       "      <td>6.546235</td>\n",
       "      <td>NaN</td>\n",
       "      <td>13.000705</td>\n",
       "      <td>NaN</td>\n",
       "      <td>NaN</td>\n",
       "      <td>41.836779</td>\n",
       "      <td>-7.027323e+01</td>\n",
       "      <td>NaN</td>\n",
       "    </tr>\n",
       "    <tr>\n",
       "      <th>std</th>\n",
       "      <td>NaN</td>\n",
       "      <td>1197.065747</td>\n",
       "      <td>NaN</td>\n",
       "      <td>NaN</td>\n",
       "      <td>NaN</td>\n",
       "      <td>NaN</td>\n",
       "      <td>NaN</td>\n",
       "      <td>NaN</td>\n",
       "      <td>1.346964</td>\n",
       "      <td>3.499536</td>\n",
       "      <td>NaN</td>\n",
       "      <td>6.322761</td>\n",
       "      <td>NaN</td>\n",
       "      <td>NaN</td>\n",
       "      <td>4.514655</td>\n",
       "      <td>7.536971e+00</td>\n",
       "      <td>NaN</td>\n",
       "    </tr>\n",
       "    <tr>\n",
       "      <th>min</th>\n",
       "      <td>NaN</td>\n",
       "      <td>111.000000</td>\n",
       "      <td>NaN</td>\n",
       "      <td>NaN</td>\n",
       "      <td>NaN</td>\n",
       "      <td>NaN</td>\n",
       "      <td>NaN</td>\n",
       "      <td>NaN</td>\n",
       "      <td>2017.000000</td>\n",
       "      <td>1.000000</td>\n",
       "      <td>NaN</td>\n",
       "      <td>0.000000</td>\n",
       "      <td>NaN</td>\n",
       "      <td>NaN</td>\n",
       "      <td>-1.000000</td>\n",
       "      <td>-7.117867e+01</td>\n",
       "      <td>NaN</td>\n",
       "    </tr>\n",
       "    <tr>\n",
       "      <th>25%</th>\n",
       "      <td>NaN</td>\n",
       "      <td>1102.000000</td>\n",
       "      <td>NaN</td>\n",
       "      <td>NaN</td>\n",
       "      <td>NaN</td>\n",
       "      <td>NaN</td>\n",
       "      <td>NaN</td>\n",
       "      <td>NaN</td>\n",
       "      <td>2017.000000</td>\n",
       "      <td>3.000000</td>\n",
       "      <td>NaN</td>\n",
       "      <td>9.000000</td>\n",
       "      <td>NaN</td>\n",
       "      <td>NaN</td>\n",
       "      <td>42.296337</td>\n",
       "      <td>-7.109761e+01</td>\n",
       "      <td>NaN</td>\n",
       "    </tr>\n",
       "    <tr>\n",
       "      <th>50%</th>\n",
       "      <td>NaN</td>\n",
       "      <td>3005.000000</td>\n",
       "      <td>NaN</td>\n",
       "      <td>NaN</td>\n",
       "      <td>NaN</td>\n",
       "      <td>NaN</td>\n",
       "      <td>NaN</td>\n",
       "      <td>NaN</td>\n",
       "      <td>2018.000000</td>\n",
       "      <td>7.000000</td>\n",
       "      <td>NaN</td>\n",
       "      <td>14.000000</td>\n",
       "      <td>NaN</td>\n",
       "      <td>NaN</td>\n",
       "      <td>42.325538</td>\n",
       "      <td>-7.107733e+01</td>\n",
       "      <td>NaN</td>\n",
       "    </tr>\n",
       "    <tr>\n",
       "      <th>75%</th>\n",
       "      <td>NaN</td>\n",
       "      <td>3201.000000</td>\n",
       "      <td>NaN</td>\n",
       "      <td>NaN</td>\n",
       "      <td>NaN</td>\n",
       "      <td>NaN</td>\n",
       "      <td>NaN</td>\n",
       "      <td>NaN</td>\n",
       "      <td>2020.000000</td>\n",
       "      <td>10.000000</td>\n",
       "      <td>NaN</td>\n",
       "      <td>18.000000</td>\n",
       "      <td>NaN</td>\n",
       "      <td>NaN</td>\n",
       "      <td>42.348303</td>\n",
       "      <td>-7.106150e+01</td>\n",
       "      <td>NaN</td>\n",
       "    </tr>\n",
       "    <tr>\n",
       "      <th>max</th>\n",
       "      <td>NaN</td>\n",
       "      <td>99999.000000</td>\n",
       "      <td>NaN</td>\n",
       "      <td>NaN</td>\n",
       "      <td>NaN</td>\n",
       "      <td>NaN</td>\n",
       "      <td>NaN</td>\n",
       "      <td>NaN</td>\n",
       "      <td>2021.000000</td>\n",
       "      <td>12.000000</td>\n",
       "      <td>NaN</td>\n",
       "      <td>23.000000</td>\n",
       "      <td>NaN</td>\n",
       "      <td>NaN</td>\n",
       "      <td>42.395042</td>\n",
       "      <td>5.249691e-08</td>\n",
       "      <td>NaN</td>\n",
       "    </tr>\n",
       "  </tbody>\n",
       "</table>\n",
       "</div>"
      ],
      "text/plain": [
       "       INCIDENT_NUMBER   OFFENSE_CODE               OFFENSE_CODE_GROUP  \\\n",
       "count           316181  316181.000000                           200226   \n",
       "unique          292175            NaN                               66   \n",
       "top         I172053750            NaN  Motor Vehicle Accident Response   \n",
       "freq                18            NaN                            23701   \n",
       "mean               NaN    2348.906965                              NaN   \n",
       "std                NaN    1197.065747                              NaN   \n",
       "min                NaN     111.000000                              NaN   \n",
       "25%                NaN    1102.000000                              NaN   \n",
       "50%                NaN    3005.000000                              NaN   \n",
       "75%                NaN    3201.000000                              NaN   \n",
       "max                NaN   99999.000000                              NaN   \n",
       "\n",
       "       OFFENSE_DESCRIPTION DISTRICT REPORTING_AREA  SHOOTING  \\\n",
       "count               316181   314534         316181  116814.0   \n",
       "unique                 244       13            880       3.0   \n",
       "top     INVESTIGATE PERSON       B2                      0.0   \n",
       "freq                 20817    48436          27743  114288.0   \n",
       "mean                   NaN      NaN            NaN       NaN   \n",
       "std                    NaN      NaN            NaN       NaN   \n",
       "min                    NaN      NaN            NaN       NaN   \n",
       "25%                    NaN      NaN            NaN       NaN   \n",
       "50%                    NaN      NaN            NaN       NaN   \n",
       "75%                    NaN      NaN            NaN       NaN   \n",
       "max                    NaN      NaN            NaN       NaN   \n",
       "\n",
       "           OCCURRED_ON_DATE           YEAR          MONTH DAY_OF_WEEK  \\\n",
       "count                316181  316181.000000  316181.000000      316181   \n",
       "unique               239067            NaN            NaN           7   \n",
       "top     2017-06-01 00:00:00            NaN            NaN      Friday   \n",
       "freq                     33            NaN            NaN       48169   \n",
       "mean                    NaN    2018.430352       6.546235         NaN   \n",
       "std                     NaN       1.346964       3.499536         NaN   \n",
       "min                     NaN    2017.000000       1.000000         NaN   \n",
       "25%                     NaN    2017.000000       3.000000         NaN   \n",
       "50%                     NaN    2018.000000       7.000000         NaN   \n",
       "75%                     NaN    2020.000000      10.000000         NaN   \n",
       "max                     NaN    2021.000000      12.000000         NaN   \n",
       "\n",
       "                 HOUR    UCR_PART         STREET            Lat          Long  \\\n",
       "count   316181.000000      200167         311859  302723.000000  3.027230e+05   \n",
       "unique            NaN           4          11860            NaN           NaN   \n",
       "top               NaN  Part Three  WASHINGTON ST            NaN           NaN   \n",
       "freq              NaN      103882          14502            NaN           NaN   \n",
       "mean        13.000705         NaN            NaN      41.836779 -7.027323e+01   \n",
       "std          6.322761         NaN            NaN       4.514655  7.536971e+00   \n",
       "min          0.000000         NaN            NaN      -1.000000 -7.117867e+01   \n",
       "25%          9.000000         NaN            NaN      42.296337 -7.109761e+01   \n",
       "50%         14.000000         NaN            NaN      42.325538 -7.107733e+01   \n",
       "75%         18.000000         NaN            NaN      42.348303 -7.106150e+01   \n",
       "max         23.000000         NaN            NaN      42.395042  5.249691e-08   \n",
       "\n",
       "                        Location  \n",
       "count                     316181  \n",
       "unique                     30819  \n",
       "top     (0.00000000, 0.00000000)  \n",
       "freq                       13458  \n",
       "mean                         NaN  \n",
       "std                          NaN  \n",
       "min                          NaN  \n",
       "25%                          NaN  \n",
       "50%                          NaN  \n",
       "75%                          NaN  \n",
       "max                          NaN  "
      ]
     },
     "execution_count": 7,
     "metadata": {},
     "output_type": "execute_result"
    }
   ],
   "source": [
    "# descriptive statistics\n",
    "df.describe(include = 'all')"
   ]
  },
  {
   "cell_type": "code",
   "execution_count": 8,
   "metadata": {},
   "outputs": [
    {
     "data": {
      "text/plain": [
       "(316181, 17)"
      ]
     },
     "execution_count": 8,
     "metadata": {},
     "output_type": "execute_result"
    }
   ],
   "source": [
    "df.shape"
   ]
  },
  {
   "cell_type": "code",
   "execution_count": 9,
   "metadata": {},
   "outputs": [],
   "source": [
    "data = df.copy()\n",
    "data = data.reset_index()"
   ]
  },
  {
   "cell_type": "code",
   "execution_count": 10,
   "metadata": {},
   "outputs": [
    {
     "data": {
      "text/plain": [
       "array(['C11', 'B3', 'C6', 'D4', nan, 'A7', 'B2', 'D14', 'A1', 'E18', 'E5',\n",
       "       'E13', 'A15', 'External'], dtype=object)"
      ]
     },
     "execution_count": 10,
     "metadata": {},
     "output_type": "execute_result"
    }
   ],
   "source": [
    "data['DISTRICT'].unique()"
   ]
  },
  {
   "cell_type": "markdown",
   "metadata": {},
   "source": [
    "In Part I, the UCR indexes reported incidents of index crimes which are broken into two categories: violent and property crimes. Aggravated assault, forcible rape, murder, and robbery are classified as violent while arson, burglary, larceny-theft, and motor vehicle theft are classified as property crimes. These are reported via the document named Return A – Monthly Return of Offenses Known to the Police. Part 1 crimes are collectively known as Index crimes, this name is used because the crimes are considered quite serious, tend to be reported more reliably than others, and the reports are taken directly by the police and not a separate agency which aggregates the data and does not necessarily contribute to the UCR.\n",
    "\n",
    "In Part II, the following categories are tracked: simple assault, curfew offenses and loitering, embezzlement, forgery and counterfeiting, disorderly conduct, driving under the influence, drug offenses, fraud, gambling, liquor offenses, offenses against the family, prostitution, public drunkenness, runaways, sex offenses, stolen property, vandalism, vagrancy, and weapons offenses. \n",
    "\n",
    "Part III are considered minor crimes\n",
    "\n",
    "References:\n",
    "* https://en.wikipedia.org/wiki/Uniform_Crime_Reports\n",
    "* https://ucr.fbi.gov/crime-in-the-u.s/2011/crime-in-the-u.s.-2011/offense-definitions\n",
    "* https://www.bjs.gov/content/pub/pdf/04ucrhandbook.pdf"
   ]
  },
  {
   "cell_type": "code",
   "execution_count": 11,
   "metadata": {},
   "outputs": [
    {
     "data": {
      "text/html": [
       "<div>\n",
       "<style scoped>\n",
       "    .dataframe tbody tr th:only-of-type {\n",
       "        vertical-align: middle;\n",
       "    }\n",
       "\n",
       "    .dataframe tbody tr th {\n",
       "        vertical-align: top;\n",
       "    }\n",
       "\n",
       "    .dataframe thead th {\n",
       "        text-align: right;\n",
       "    }\n",
       "</style>\n",
       "<table border=\"1\" class=\"dataframe\">\n",
       "  <thead>\n",
       "    <tr style=\"text-align: right;\">\n",
       "      <th>OFFENSE_DESCRIPTION</th>\n",
       "      <th>A&amp;B ON POLICE OFFICER</th>\n",
       "      <th>ABDUCTION - INTICING</th>\n",
       "      <th>AFFRAY</th>\n",
       "      <th>AIRCRAFT INCIDENTS</th>\n",
       "      <th>ANIMAL ABUSE</th>\n",
       "      <th>ANIMAL CONTROL - DOG BITES - ETC.</th>\n",
       "      <th>ANIMAL INCIDENTS</th>\n",
       "      <th>ANIMAL INCIDENTS (DOG BITES, LOST DOG, ETC)</th>\n",
       "      <th>ANNOYING AND ACCOSTING</th>\n",
       "      <th>ARSON</th>\n",
       "      <th>...</th>\n",
       "      <th>VIOLATION - RESTRAINING ORDER (NO ARREST)</th>\n",
       "      <th>WARRANT ARREST</th>\n",
       "      <th>WARRANT ARREST - BOSTON WARRANT (MUST BE SUPPLEMENTAL)</th>\n",
       "      <th>WARRANT ARREST - OUTSIDE OF BOSTON WARRANT</th>\n",
       "      <th>WEAPON - FIREARM - CARRYING / POSSESSING, ETC</th>\n",
       "      <th>WEAPON - FIREARM - OTHER VIOLATION</th>\n",
       "      <th>WEAPON - FIREARM - SALE / TRAFFICKING</th>\n",
       "      <th>WEAPON - OTHER - CARRYING / POSSESSING, ETC</th>\n",
       "      <th>WEAPON - OTHER - OTHER VIOLATION</th>\n",
       "      <th>WEAPON VIOLATION - CARRY/ POSSESSING/ SALE/ TRAFFICKING/ OTHER</th>\n",
       "    </tr>\n",
       "    <tr>\n",
       "      <th>DISTRICT</th>\n",
       "      <th></th>\n",
       "      <th></th>\n",
       "      <th></th>\n",
       "      <th></th>\n",
       "      <th></th>\n",
       "      <th></th>\n",
       "      <th></th>\n",
       "      <th></th>\n",
       "      <th></th>\n",
       "      <th></th>\n",
       "      <th></th>\n",
       "      <th></th>\n",
       "      <th></th>\n",
       "      <th></th>\n",
       "      <th></th>\n",
       "      <th></th>\n",
       "      <th></th>\n",
       "      <th></th>\n",
       "      <th></th>\n",
       "      <th></th>\n",
       "      <th></th>\n",
       "    </tr>\n",
       "  </thead>\n",
       "  <tbody>\n",
       "    <tr>\n",
       "      <th>A1</th>\n",
       "      <td>0</td>\n",
       "      <td>0</td>\n",
       "      <td>41</td>\n",
       "      <td>3</td>\n",
       "      <td>8</td>\n",
       "      <td>8</td>\n",
       "      <td>14</td>\n",
       "      <td>8</td>\n",
       "      <td>12</td>\n",
       "      <td>9</td>\n",
       "      <td>...</td>\n",
       "      <td>16</td>\n",
       "      <td>1035</td>\n",
       "      <td>58</td>\n",
       "      <td>78</td>\n",
       "      <td>21</td>\n",
       "      <td>6</td>\n",
       "      <td>0</td>\n",
       "      <td>64</td>\n",
       "      <td>4</td>\n",
       "      <td>47</td>\n",
       "    </tr>\n",
       "    <tr>\n",
       "      <th>A15</th>\n",
       "      <td>0</td>\n",
       "      <td>0</td>\n",
       "      <td>2</td>\n",
       "      <td>1</td>\n",
       "      <td>4</td>\n",
       "      <td>8</td>\n",
       "      <td>7</td>\n",
       "      <td>11</td>\n",
       "      <td>2</td>\n",
       "      <td>3</td>\n",
       "      <td>...</td>\n",
       "      <td>8</td>\n",
       "      <td>73</td>\n",
       "      <td>3</td>\n",
       "      <td>10</td>\n",
       "      <td>4</td>\n",
       "      <td>1</td>\n",
       "      <td>0</td>\n",
       "      <td>10</td>\n",
       "      <td>0</td>\n",
       "      <td>5</td>\n",
       "    </tr>\n",
       "    <tr>\n",
       "      <th>A7</th>\n",
       "      <td>0</td>\n",
       "      <td>0</td>\n",
       "      <td>12</td>\n",
       "      <td>60</td>\n",
       "      <td>2</td>\n",
       "      <td>19</td>\n",
       "      <td>15</td>\n",
       "      <td>11</td>\n",
       "      <td>1</td>\n",
       "      <td>3</td>\n",
       "      <td>...</td>\n",
       "      <td>25</td>\n",
       "      <td>194</td>\n",
       "      <td>8</td>\n",
       "      <td>12</td>\n",
       "      <td>12</td>\n",
       "      <td>3</td>\n",
       "      <td>0</td>\n",
       "      <td>35</td>\n",
       "      <td>2</td>\n",
       "      <td>10</td>\n",
       "    </tr>\n",
       "    <tr>\n",
       "      <th>B2</th>\n",
       "      <td>2</td>\n",
       "      <td>0</td>\n",
       "      <td>15</td>\n",
       "      <td>5</td>\n",
       "      <td>7</td>\n",
       "      <td>19</td>\n",
       "      <td>20</td>\n",
       "      <td>24</td>\n",
       "      <td>7</td>\n",
       "      <td>24</td>\n",
       "      <td>...</td>\n",
       "      <td>68</td>\n",
       "      <td>954</td>\n",
       "      <td>25</td>\n",
       "      <td>98</td>\n",
       "      <td>186</td>\n",
       "      <td>35</td>\n",
       "      <td>0</td>\n",
       "      <td>59</td>\n",
       "      <td>23</td>\n",
       "      <td>141</td>\n",
       "    </tr>\n",
       "    <tr>\n",
       "      <th>B3</th>\n",
       "      <td>0</td>\n",
       "      <td>1</td>\n",
       "      <td>17</td>\n",
       "      <td>0</td>\n",
       "      <td>6</td>\n",
       "      <td>20</td>\n",
       "      <td>21</td>\n",
       "      <td>21</td>\n",
       "      <td>0</td>\n",
       "      <td>11</td>\n",
       "      <td>...</td>\n",
       "      <td>73</td>\n",
       "      <td>424</td>\n",
       "      <td>9</td>\n",
       "      <td>48</td>\n",
       "      <td>117</td>\n",
       "      <td>18</td>\n",
       "      <td>5</td>\n",
       "      <td>33</td>\n",
       "      <td>12</td>\n",
       "      <td>78</td>\n",
       "    </tr>\n",
       "    <tr>\n",
       "      <th>C11</th>\n",
       "      <td>0</td>\n",
       "      <td>0</td>\n",
       "      <td>13</td>\n",
       "      <td>0</td>\n",
       "      <td>4</td>\n",
       "      <td>30</td>\n",
       "      <td>22</td>\n",
       "      <td>27</td>\n",
       "      <td>0</td>\n",
       "      <td>8</td>\n",
       "      <td>...</td>\n",
       "      <td>68</td>\n",
       "      <td>726</td>\n",
       "      <td>10</td>\n",
       "      <td>65</td>\n",
       "      <td>91</td>\n",
       "      <td>20</td>\n",
       "      <td>0</td>\n",
       "      <td>39</td>\n",
       "      <td>13</td>\n",
       "      <td>63</td>\n",
       "    </tr>\n",
       "    <tr>\n",
       "      <th>C6</th>\n",
       "      <td>0</td>\n",
       "      <td>1</td>\n",
       "      <td>12</td>\n",
       "      <td>0</td>\n",
       "      <td>3</td>\n",
       "      <td>18</td>\n",
       "      <td>11</td>\n",
       "      <td>12</td>\n",
       "      <td>4</td>\n",
       "      <td>5</td>\n",
       "      <td>...</td>\n",
       "      <td>20</td>\n",
       "      <td>481</td>\n",
       "      <td>11</td>\n",
       "      <td>59</td>\n",
       "      <td>29</td>\n",
       "      <td>10</td>\n",
       "      <td>2</td>\n",
       "      <td>13</td>\n",
       "      <td>5</td>\n",
       "      <td>32</td>\n",
       "    </tr>\n",
       "    <tr>\n",
       "      <th>D14</th>\n",
       "      <td>0</td>\n",
       "      <td>0</td>\n",
       "      <td>7</td>\n",
       "      <td>0</td>\n",
       "      <td>7</td>\n",
       "      <td>23</td>\n",
       "      <td>12</td>\n",
       "      <td>20</td>\n",
       "      <td>4</td>\n",
       "      <td>11</td>\n",
       "      <td>...</td>\n",
       "      <td>11</td>\n",
       "      <td>166</td>\n",
       "      <td>3</td>\n",
       "      <td>19</td>\n",
       "      <td>13</td>\n",
       "      <td>5</td>\n",
       "      <td>0</td>\n",
       "      <td>19</td>\n",
       "      <td>2</td>\n",
       "      <td>11</td>\n",
       "    </tr>\n",
       "    <tr>\n",
       "      <th>D4</th>\n",
       "      <td>0</td>\n",
       "      <td>0</td>\n",
       "      <td>36</td>\n",
       "      <td>3</td>\n",
       "      <td>11</td>\n",
       "      <td>12</td>\n",
       "      <td>13</td>\n",
       "      <td>17</td>\n",
       "      <td>8</td>\n",
       "      <td>13</td>\n",
       "      <td>...</td>\n",
       "      <td>22</td>\n",
       "      <td>826</td>\n",
       "      <td>60</td>\n",
       "      <td>105</td>\n",
       "      <td>25</td>\n",
       "      <td>10</td>\n",
       "      <td>1</td>\n",
       "      <td>41</td>\n",
       "      <td>2</td>\n",
       "      <td>34</td>\n",
       "    </tr>\n",
       "    <tr>\n",
       "      <th>E13</th>\n",
       "      <td>0</td>\n",
       "      <td>0</td>\n",
       "      <td>8</td>\n",
       "      <td>0</td>\n",
       "      <td>3</td>\n",
       "      <td>16</td>\n",
       "      <td>9</td>\n",
       "      <td>14</td>\n",
       "      <td>1</td>\n",
       "      <td>4</td>\n",
       "      <td>...</td>\n",
       "      <td>12</td>\n",
       "      <td>317</td>\n",
       "      <td>3</td>\n",
       "      <td>22</td>\n",
       "      <td>26</td>\n",
       "      <td>6</td>\n",
       "      <td>0</td>\n",
       "      <td>11</td>\n",
       "      <td>7</td>\n",
       "      <td>20</td>\n",
       "    </tr>\n",
       "    <tr>\n",
       "      <th>E18</th>\n",
       "      <td>0</td>\n",
       "      <td>1</td>\n",
       "      <td>18</td>\n",
       "      <td>0</td>\n",
       "      <td>3</td>\n",
       "      <td>17</td>\n",
       "      <td>8</td>\n",
       "      <td>16</td>\n",
       "      <td>3</td>\n",
       "      <td>3</td>\n",
       "      <td>...</td>\n",
       "      <td>17</td>\n",
       "      <td>135</td>\n",
       "      <td>5</td>\n",
       "      <td>23</td>\n",
       "      <td>14</td>\n",
       "      <td>9</td>\n",
       "      <td>0</td>\n",
       "      <td>4</td>\n",
       "      <td>4</td>\n",
       "      <td>16</td>\n",
       "    </tr>\n",
       "    <tr>\n",
       "      <th>E5</th>\n",
       "      <td>0</td>\n",
       "      <td>1</td>\n",
       "      <td>9</td>\n",
       "      <td>0</td>\n",
       "      <td>5</td>\n",
       "      <td>21</td>\n",
       "      <td>12</td>\n",
       "      <td>19</td>\n",
       "      <td>1</td>\n",
       "      <td>5</td>\n",
       "      <td>...</td>\n",
       "      <td>23</td>\n",
       "      <td>101</td>\n",
       "      <td>2</td>\n",
       "      <td>12</td>\n",
       "      <td>11</td>\n",
       "      <td>1</td>\n",
       "      <td>0</td>\n",
       "      <td>8</td>\n",
       "      <td>4</td>\n",
       "      <td>6</td>\n",
       "    </tr>\n",
       "    <tr>\n",
       "      <th>External</th>\n",
       "      <td>0</td>\n",
       "      <td>0</td>\n",
       "      <td>0</td>\n",
       "      <td>0</td>\n",
       "      <td>0</td>\n",
       "      <td>0</td>\n",
       "      <td>0</td>\n",
       "      <td>2</td>\n",
       "      <td>0</td>\n",
       "      <td>0</td>\n",
       "      <td>...</td>\n",
       "      <td>1</td>\n",
       "      <td>0</td>\n",
       "      <td>2</td>\n",
       "      <td>7</td>\n",
       "      <td>0</td>\n",
       "      <td>0</td>\n",
       "      <td>0</td>\n",
       "      <td>0</td>\n",
       "      <td>0</td>\n",
       "      <td>1</td>\n",
       "    </tr>\n",
       "  </tbody>\n",
       "</table>\n",
       "<p>13 rows × 244 columns</p>\n",
       "</div>"
      ],
      "text/plain": [
       "OFFENSE_DESCRIPTION  A&B ON POLICE OFFICER  ABDUCTION - INTICING  AFFRAY  \\\n",
       "DISTRICT                                                                   \n",
       "A1                                       0                     0      41   \n",
       "A15                                      0                     0       2   \n",
       "A7                                       0                     0      12   \n",
       "B2                                       2                     0      15   \n",
       "B3                                       0                     1      17   \n",
       "C11                                      0                     0      13   \n",
       "C6                                       0                     1      12   \n",
       "D14                                      0                     0       7   \n",
       "D4                                       0                     0      36   \n",
       "E13                                      0                     0       8   \n",
       "E18                                      0                     1      18   \n",
       "E5                                       0                     1       9   \n",
       "External                                 0                     0       0   \n",
       "\n",
       "OFFENSE_DESCRIPTION  AIRCRAFT INCIDENTS  ANIMAL ABUSE  \\\n",
       "DISTRICT                                                \n",
       "A1                                    3             8   \n",
       "A15                                   1             4   \n",
       "A7                                   60             2   \n",
       "B2                                    5             7   \n",
       "B3                                    0             6   \n",
       "C11                                   0             4   \n",
       "C6                                    0             3   \n",
       "D14                                   0             7   \n",
       "D4                                    3            11   \n",
       "E13                                   0             3   \n",
       "E18                                   0             3   \n",
       "E5                                    0             5   \n",
       "External                              0             0   \n",
       "\n",
       "OFFENSE_DESCRIPTION  ANIMAL CONTROL - DOG BITES - ETC.  ANIMAL INCIDENTS  \\\n",
       "DISTRICT                                                                   \n",
       "A1                                                   8                14   \n",
       "A15                                                  8                 7   \n",
       "A7                                                  19                15   \n",
       "B2                                                  19                20   \n",
       "B3                                                  20                21   \n",
       "C11                                                 30                22   \n",
       "C6                                                  18                11   \n",
       "D14                                                 23                12   \n",
       "D4                                                  12                13   \n",
       "E13                                                 16                 9   \n",
       "E18                                                 17                 8   \n",
       "E5                                                  21                12   \n",
       "External                                             0                 0   \n",
       "\n",
       "OFFENSE_DESCRIPTION  ANIMAL INCIDENTS (DOG BITES, LOST DOG, ETC)  \\\n",
       "DISTRICT                                                           \n",
       "A1                                                             8   \n",
       "A15                                                           11   \n",
       "A7                                                            11   \n",
       "B2                                                            24   \n",
       "B3                                                            21   \n",
       "C11                                                           27   \n",
       "C6                                                            12   \n",
       "D14                                                           20   \n",
       "D4                                                            17   \n",
       "E13                                                           14   \n",
       "E18                                                           16   \n",
       "E5                                                            19   \n",
       "External                                                       2   \n",
       "\n",
       "OFFENSE_DESCRIPTION  ANNOYING AND ACCOSTING  ARSON  ...  \\\n",
       "DISTRICT                                            ...   \n",
       "A1                                       12      9  ...   \n",
       "A15                                       2      3  ...   \n",
       "A7                                        1      3  ...   \n",
       "B2                                        7     24  ...   \n",
       "B3                                        0     11  ...   \n",
       "C11                                       0      8  ...   \n",
       "C6                                        4      5  ...   \n",
       "D14                                       4     11  ...   \n",
       "D4                                        8     13  ...   \n",
       "E13                                       1      4  ...   \n",
       "E18                                       3      3  ...   \n",
       "E5                                        1      5  ...   \n",
       "External                                  0      0  ...   \n",
       "\n",
       "OFFENSE_DESCRIPTION  VIOLATION - RESTRAINING ORDER (NO ARREST)  \\\n",
       "DISTRICT                                                         \n",
       "A1                                                          16   \n",
       "A15                                                          8   \n",
       "A7                                                          25   \n",
       "B2                                                          68   \n",
       "B3                                                          73   \n",
       "C11                                                         68   \n",
       "C6                                                          20   \n",
       "D14                                                         11   \n",
       "D4                                                          22   \n",
       "E13                                                         12   \n",
       "E18                                                         17   \n",
       "E5                                                          23   \n",
       "External                                                     1   \n",
       "\n",
       "OFFENSE_DESCRIPTION  WARRANT ARREST  \\\n",
       "DISTRICT                              \n",
       "A1                             1035   \n",
       "A15                              73   \n",
       "A7                              194   \n",
       "B2                              954   \n",
       "B3                              424   \n",
       "C11                             726   \n",
       "C6                              481   \n",
       "D14                             166   \n",
       "D4                              826   \n",
       "E13                             317   \n",
       "E18                             135   \n",
       "E5                              101   \n",
       "External                          0   \n",
       "\n",
       "OFFENSE_DESCRIPTION  WARRANT ARREST - BOSTON WARRANT (MUST BE SUPPLEMENTAL)  \\\n",
       "DISTRICT                                                                      \n",
       "A1                                                                  58        \n",
       "A15                                                                  3        \n",
       "A7                                                                   8        \n",
       "B2                                                                  25        \n",
       "B3                                                                   9        \n",
       "C11                                                                 10        \n",
       "C6                                                                  11        \n",
       "D14                                                                  3        \n",
       "D4                                                                  60        \n",
       "E13                                                                  3        \n",
       "E18                                                                  5        \n",
       "E5                                                                   2        \n",
       "External                                                             2        \n",
       "\n",
       "OFFENSE_DESCRIPTION  WARRANT ARREST - OUTSIDE OF BOSTON WARRANT  \\\n",
       "DISTRICT                                                          \n",
       "A1                                                           78   \n",
       "A15                                                          10   \n",
       "A7                                                           12   \n",
       "B2                                                           98   \n",
       "B3                                                           48   \n",
       "C11                                                          65   \n",
       "C6                                                           59   \n",
       "D14                                                          19   \n",
       "D4                                                          105   \n",
       "E13                                                          22   \n",
       "E18                                                          23   \n",
       "E5                                                           12   \n",
       "External                                                      7   \n",
       "\n",
       "OFFENSE_DESCRIPTION  WEAPON - FIREARM - CARRYING / POSSESSING, ETC  \\\n",
       "DISTRICT                                                             \n",
       "A1                                                              21   \n",
       "A15                                                              4   \n",
       "A7                                                              12   \n",
       "B2                                                             186   \n",
       "B3                                                             117   \n",
       "C11                                                             91   \n",
       "C6                                                              29   \n",
       "D14                                                             13   \n",
       "D4                                                              25   \n",
       "E13                                                             26   \n",
       "E18                                                             14   \n",
       "E5                                                              11   \n",
       "External                                                         0   \n",
       "\n",
       "OFFENSE_DESCRIPTION  WEAPON - FIREARM - OTHER VIOLATION  \\\n",
       "DISTRICT                                                  \n",
       "A1                                                    6   \n",
       "A15                                                   1   \n",
       "A7                                                    3   \n",
       "B2                                                   35   \n",
       "B3                                                   18   \n",
       "C11                                                  20   \n",
       "C6                                                   10   \n",
       "D14                                                   5   \n",
       "D4                                                   10   \n",
       "E13                                                   6   \n",
       "E18                                                   9   \n",
       "E5                                                    1   \n",
       "External                                              0   \n",
       "\n",
       "OFFENSE_DESCRIPTION  WEAPON - FIREARM - SALE / TRAFFICKING  \\\n",
       "DISTRICT                                                     \n",
       "A1                                                       0   \n",
       "A15                                                      0   \n",
       "A7                                                       0   \n",
       "B2                                                       0   \n",
       "B3                                                       5   \n",
       "C11                                                      0   \n",
       "C6                                                       2   \n",
       "D14                                                      0   \n",
       "D4                                                       1   \n",
       "E13                                                      0   \n",
       "E18                                                      0   \n",
       "E5                                                       0   \n",
       "External                                                 0   \n",
       "\n",
       "OFFENSE_DESCRIPTION  WEAPON - OTHER - CARRYING / POSSESSING, ETC  \\\n",
       "DISTRICT                                                           \n",
       "A1                                                            64   \n",
       "A15                                                           10   \n",
       "A7                                                            35   \n",
       "B2                                                            59   \n",
       "B3                                                            33   \n",
       "C11                                                           39   \n",
       "C6                                                            13   \n",
       "D14                                                           19   \n",
       "D4                                                            41   \n",
       "E13                                                           11   \n",
       "E18                                                            4   \n",
       "E5                                                             8   \n",
       "External                                                       0   \n",
       "\n",
       "OFFENSE_DESCRIPTION  WEAPON - OTHER - OTHER VIOLATION  \\\n",
       "DISTRICT                                                \n",
       "A1                                                  4   \n",
       "A15                                                 0   \n",
       "A7                                                  2   \n",
       "B2                                                 23   \n",
       "B3                                                 12   \n",
       "C11                                                13   \n",
       "C6                                                  5   \n",
       "D14                                                 2   \n",
       "D4                                                  2   \n",
       "E13                                                 7   \n",
       "E18                                                 4   \n",
       "E5                                                  4   \n",
       "External                                            0   \n",
       "\n",
       "OFFENSE_DESCRIPTION  WEAPON VIOLATION - CARRY/ POSSESSING/ SALE/ TRAFFICKING/ OTHER  \n",
       "DISTRICT                                                                             \n",
       "A1                                                                  47               \n",
       "A15                                                                  5               \n",
       "A7                                                                  10               \n",
       "B2                                                                 141               \n",
       "B3                                                                  78               \n",
       "C11                                                                 63               \n",
       "C6                                                                  32               \n",
       "D14                                                                 11               \n",
       "D4                                                                  34               \n",
       "E13                                                                 20               \n",
       "E18                                                                 16               \n",
       "E5                                                                   6               \n",
       "External                                                             1               \n",
       "\n",
       "[13 rows x 244 columns]"
      ]
     },
     "execution_count": 11,
     "metadata": {},
     "output_type": "execute_result"
    }
   ],
   "source": [
    "pd.crosstab(data['DISTRICT'], data['OFFENSE_DESCRIPTION'])"
   ]
  },
  {
   "cell_type": "markdown",
   "metadata": {},
   "source": [
    "----"
   ]
  },
  {
   "cell_type": "markdown",
   "metadata": {},
   "source": [
    "Which districts seem to have a higher crime rate than others? The question can help establish a baseline for our study."
   ]
  },
  {
   "cell_type": "code",
   "execution_count": 12,
   "metadata": {},
   "outputs": [],
   "source": [
    "def frequnecy_table(i):\n",
    "    freq_tab_district = pd.DataFrame()\n",
    "    freq_tab_district = pd.crosstab(index=i, columns='count').sort_values(by='count',ascending=False)\n",
    "    freq_tab_district['Relative Frequency'] = (freq_tab_district/freq_tab_district.sum())*100\n",
    "    freq_tab_district['Cumulative Frequency'] = freq_tab_district['Relative Frequency'].cumsum()\n",
    "    return freq_tab_district"
   ]
  },
  {
   "cell_type": "code",
   "execution_count": 13,
   "metadata": {},
   "outputs": [],
   "source": [
    "freq_tab_district = frequnecy_table(data['DISTRICT'])"
   ]
  },
  {
   "cell_type": "code",
   "execution_count": 14,
   "metadata": {},
   "outputs": [
    {
     "data": {
      "image/png": "[encoded data removed]",
      "text/plain": [
       "<Figure size 720x360 with 2 Axes>"
      ]
     },
     "metadata": {},
     "output_type": "display_data"
    }
   ],
   "source": [
    "from matplotlib.ticker import PercentFormatter\n",
    "\n",
    "fig, ax = plt.subplots(figsize=(10,5))\n",
    "ax.bar(freq_tab_district.index, freq_tab_district[\"count\"], color=\"C0\")\n",
    "ax2 = ax.twinx()\n",
    "ax2.plot(freq_tab_district.index, freq_tab_district[\"Cumulative Frequency\"], color=\"C1\", marker=\"D\", ms=7)\n",
    "ax2.yaxis.set_major_formatter(PercentFormatter())\n",
    "\n",
    "ax.tick_params(axis=\"y\", colors=\"C0\")\n",
    "ax2.tick_params(axis=\"y\", colors=\"C1\")\n",
    "\n",
    "plt.show()"
   ]
  },
  {
   "cell_type": "markdown",
   "metadata": {},
   "source": [
    "Based on the results from the frequency distribution, we can see that 80% of the incidents reported occurred in roughly 8 of the 12 districts, not including external reports.\n",
    "Of the districts listed, four districts B2, C11, D4, and B3, account for 50% of total incidents reported over five years. Let us dive into these districts and see what kinds of crimes are being reported.         "
   ]
  },
  {
   "cell_type": "markdown",
   "metadata": {},
   "source": [
    "----"
   ]
  },
  {
   "cell_type": "code",
   "execution_count": null,
   "metadata": {},
   "outputs": [],
   "source": [
    "data['DISTRICT'].unique()"
   ]
  },
  {
   "cell_type": "code",
   "execution_count": null,
   "metadata": {},
   "outputs": [],
   "source": [
    "high_crime_locations = data.loc[(data['DISTRICT'] == 'B2') | (data['DISTRICT'] == 'C11') | (data['DISTRICT'] == 'D4') | (data['DISTRICT'] == 'B3') ] "
   ]
  },
  {
   "cell_type": "code",
   "execution_count": null,
   "metadata": {},
   "outputs": [],
   "source": [
    "high_crime_locations.info()"
   ]
  },
  {
   "cell_type": "code",
   "execution_count": null,
   "metadata": {},
   "outputs": [],
   "source": [
    "high_crime_locations.shape"
   ]
  },
  {
   "cell_type": "code",
   "execution_count": null,
   "metadata": {},
   "outputs": [],
   "source": [
    "high_crime_locations.describe(include='all')"
   ]
  },
  {
   "cell_type": "code",
   "execution_count": null,
   "metadata": {},
   "outputs": [],
   "source": [
    "# Double check the frequency to check the new results \n",
    "frequnecy_table(high_crime_locations['DISTRICT'])"
   ]
  },
  {
   "cell_type": "code",
   "execution_count": null,
   "metadata": {},
   "outputs": [],
   "source": [
    "# Store table results into new object for futher exploration\n",
    "offense_tab = pd.crosstab(high_crime_locations['OFFENSE_DESCRIPTION'], high_crime_locations['DISTRICT'])\n",
    "offense_tab"
   ]
  },
  {
   "cell_type": "code",
   "execution_count": null,
   "metadata": {},
   "outputs": [],
   "source": [
    "# create a top 15 formula \n",
    "def sort_vals_bar_chart(i): # create function name \n",
    "    sort = pd.DataFrame() # create empty Dataframe \n",
    "    sorts = i.sort_values(ascending=False).head(15) #store value into object\n",
    "    print(sorts)\n",
    "    # Create labels for each bar \n",
    "    x_labels = sorts.values\n",
    "    \n",
    "    #plot the figure\n",
    "    plt.figure(figsize = (12,8))\n",
    "    ax = sorts.plot(kind=\"bar\")\n",
    "    ax.set_title('Top 15 offenses reported')\n",
    "    ax.set_xlabel('Offenses Reported')\n",
    "    ax.set_ylabel('Number of Incidents Recorded')\n",
    "    \n",
    "    rects = ax.patches\n",
    "\n",
    "    # Make some labels.\n",
    "    labels = x_labels\n",
    "\n",
    "    for rect, label in zip(rects, labels):\n",
    "        height = rect.get_height()\n",
    "        ax.text(rect.get_x() + rect.get_width() / 2, height + 5, label,\n",
    "                ha='center', va='bottom')\n"
   ]
  },
  {
   "cell_type": "code",
   "execution_count": 15,
   "metadata": {},
   "outputs": [],
   "source": [
    "# Create Grid to feature all graphs at once "
   ]
  },
  {
   "cell_type": "markdown",
   "metadata": {},
   "source": [
    "#### Univariate Analysis"
   ]
  },
  {
   "cell_type": "code",
   "execution_count": null,
   "metadata": {},
   "outputs": [],
   "source": [
    "sort_vals_bar_chart(offense_tab['B2'])"
   ]
  },
  {
   "cell_type": "code",
   "execution_count": null,
   "metadata": {},
   "outputs": [],
   "source": [
    "#view crimes \n",
    "sort_vals_bar_chart(offense_tab['B3'])"
   ]
  },
  {
   "cell_type": "code",
   "execution_count": null,
   "metadata": {},
   "outputs": [],
   "source": [
    "#view crimes \n",
    "sort_vals_bar_chart(offense_tab['C11'])"
   ]
  },
  {
   "cell_type": "code",
   "execution_count": null,
   "metadata": {},
   "outputs": [],
   "source": [
    "#view crimes \n",
    "sort_vals_bar_chart(offense_tab['D4'])"
   ]
  },
  {
   "cell_type": "markdown",
   "metadata": {},
   "source": [
    "----"
   ]
  },
  {
   "cell_type": "markdown",
   "metadata": {},
   "source": [
    "Results vary from district to district; however, there are some re-occurring themes throughout all four districts. What is it about these areas that may attract these crimes, and have these same crimes persisted since 2017."
   ]
  },
  {
   "cell_type": "code",
   "execution_count": null,
   "metadata": {},
   "outputs": [],
   "source": [
    "district_yr_offense_tab = pd.crosstab(columns=high_crime_locations['OFFENSE_DESCRIPTION'], index=[high_crime_locations['DISTRICT'], high_crime_locations['YEAR']])"
   ]
  },
  {
   "cell_type": "code",
   "execution_count": null,
   "metadata": {},
   "outputs": [],
   "source": [
    "pd.options.display.max_rows = 999\n",
    "pd.options.display.max_columns = 999\n",
    "temp = district_yr_offense_tab.loc['B2']\n",
    "temp[['INVESTIGATE PERSON', 'M/V - LEAVING SCENE - PROPERTY DAMAGE',\n",
    "       'SICK/INJURED/MEDICAL - PERSON', 'VERBAL DISPUTE', 'VANDALISM',\n",
    "       'INVESTIGATE PROPERTY', 'ASSAULT SIMPLE - BATTERY',\n",
    "       'THREATS TO DO BODILY HARM', 'LARCENY THEFT FROM MV - NON-ACCESSORY',\n",
    "       'TOWED MOTOR VEHICLE', 'M/V ACCIDENT - PERSONAL INJURY',\n",
    "       'WARRANT ARREST', 'ASSAULT - AGGRAVATED', 'SICK ASSIST',\n",
    "       'LARCENY THEFT FROM BUILDING']]"
   ]
  },
  {
   "cell_type": "markdown",
   "metadata": {},
   "source": [
    "Although crime has decreased slightly since 2017 - most crimes have remained relatively high. Additionally, as time elapses, norms and standards will evolve to adapt to a changing environment. Why has the B2 District remained the same over several years? Is there are large enough police force/presence to handle these crimes? How has local enforcement adjusted to counteract criminal activities and enterprises within these communities? These and a ton of other questions!  "
   ]
  },
  {
   "cell_type": "markdown",
   "metadata": {},
   "source": [
    "District B2 "
   ]
  },
  {
   "cell_type": "code",
   "execution_count": null,
   "metadata": {},
   "outputs": [],
   "source": [
    "temp = district_yr_offense_tab.loc['B3']\n",
    "temp[['INVESTIGATE PERSON', 'VERBAL DISPUTE',\n",
    "       'M/V - LEAVING SCENE - PROPERTY DAMAGE', 'INVESTIGATE PROPERTY',\n",
    "       'VANDALISM', 'SICK/INJURED/MEDICAL - PERSON',\n",
    "       'THREATS TO DO BODILY HARM', 'ASSAULT SIMPLE - BATTERY',\n",
    "       'MISSING PERSON - LOCATED', 'TOWED MOTOR VEHICLE', 'SICK ASSIST',\n",
    "       'LARCENY THEFT FROM MV - NON-ACCESSORY', 'ASSAULT - AGGRAVATED',\n",
    "       'PROPERTY - LOST', 'M/V ACCIDENT - PERSONAL INJURY']]"
   ]
  },
  {
   "cell_type": "code",
   "execution_count": null,
   "metadata": {},
   "outputs": [],
   "source": [
    "temp = district_yr_offense_tab.loc['C11']\n",
    "temp[['M/V - LEAVING SCENE - PROPERTY DAMAGE', 'INVESTIGATE PERSON',\n",
    "       'SICK/INJURED/MEDICAL - PERSON', 'VANDALISM', 'VERBAL DISPUTE',\n",
    "       'INVESTIGATE PROPERTY', 'TOWED MOTOR VEHICLE',\n",
    "       'THREATS TO DO BODILY HARM', 'ASSAULT SIMPLE - BATTERY',\n",
    "       'LARCENY THEFT FROM MV - NON-ACCESSORY', 'LARCENY SHOPLIFTING',\n",
    "       'SICK ASSIST', 'MISSING PERSON - LOCATED',\n",
    "       'LARCENY THEFT FROM BUILDING', 'WARRANT ARREST']]"
   ]
  },
  {
   "cell_type": "code",
   "execution_count": null,
   "metadata": {},
   "outputs": [],
   "source": [
    "temp = district_yr_offense_tab.loc['D4']\n",
    "temp[['LARCENY SHOPLIFTING', 'INVESTIGATE PERSON',\n",
    "       'LARCENY THEFT FROM BUILDING', 'TOWED MOTOR VEHICLE',\n",
    "       'SICK/INJURED/MEDICAL - PERSON',\n",
    "       'LARCENY THEFT FROM MV - NON-ACCESSORY', 'VANDALISM',\n",
    "       'INVESTIGATE PROPERTY', 'M/V - LEAVING SCENE - PROPERTY DAMAGE',\n",
    "       'ASSAULT SIMPLE - BATTERY', 'LARCENY THEFT OF BICYCLE',\n",
    "       'LARCENY ALL OTHERS', 'PROPERTY - LOST', 'WARRANT ARREST',\n",
    "       'THREATS TO DO BODILY HARM']]"
   ]
  },
  {
   "cell_type": "markdown",
   "metadata": {},
   "source": [
    "Overall, these areas continue to present a problem for local law enforcement. I am interested to learn how local and city governments will help deter crime, which has been rather persistent in these areas for several years. Maybe the answer is Gentrification!? Nonetheless, it would be interesting to see the distribution of these crimes over five years"
   ]
  },
  {
   "cell_type": "code",
   "execution_count": null,
   "metadata": {},
   "outputs": [],
   "source": [
    "district_yrmnth_offense_tab = pd.crosstab(columns=high_crime_locations['OFFENSE_DESCRIPTION'], index=[high_crime_locations['DISTRICT'], high_crime_locations['YEAR'], high_crime_locations['MONTH']])"
   ]
  },
  {
   "cell_type": "code",
   "execution_count": null,
   "metadata": {},
   "outputs": [],
   "source": [
    "temp = district_yrmnth_offense_tab.loc['B2']\n",
    "temp[['INVESTIGATE PERSON', 'M/V - LEAVING SCENE - PROPERTY DAMAGE',\n",
    "       'SICK/INJURED/MEDICAL - PERSON', 'VERBAL DISPUTE', 'VANDALISM',\n",
    "       'INVESTIGATE PROPERTY', 'ASSAULT SIMPLE - BATTERY',\n",
    "       'THREATS TO DO BODILY HARM', 'LARCENY THEFT FROM MV - NON-ACCESSORY',\n",
    "       'TOWED MOTOR VEHICLE', 'M/V ACCIDENT - PERSONAL INJURY',\n",
    "       'WARRANT ARREST', 'ASSAULT - AGGRAVATED', 'SICK ASSIST',\n",
    "       'LARCENY THEFT FROM BUILDING']].plot.box(vert=False, figsize=(10,10), title = \"Top 15 Incidents Reported Distribution (2017-2021): District B2 \", patch_artist=True);"
   ]
  },
  {
   "cell_type": "code",
   "execution_count": null,
   "metadata": {},
   "outputs": [],
   "source": [
    "temp = district_yrmnth_offense_tab.loc['B3']\n",
    "temp[['INVESTIGATE PERSON', 'VERBAL DISPUTE',\n",
    "       'M/V - LEAVING SCENE - PROPERTY DAMAGE', 'INVESTIGATE PROPERTY',\n",
    "       'VANDALISM', 'SICK/INJURED/MEDICAL - PERSON',\n",
    "       'THREATS TO DO BODILY HARM', 'ASSAULT SIMPLE - BATTERY',\n",
    "       'MISSING PERSON - LOCATED', 'TOWED MOTOR VEHICLE', 'SICK ASSIST',\n",
    "       'LARCENY THEFT FROM MV - NON-ACCESSORY', 'ASSAULT - AGGRAVATED',\n",
    "       'PROPERTY - LOST', 'M/V ACCIDENT - PERSONAL INJURY']].plot.box(vert=False, figsize=(10,10), title = \"Top 15 Incidents Reported Distribution (2017-2021): District B3 \", patch_artist=True);"
   ]
  },
  {
   "cell_type": "code",
   "execution_count": null,
   "metadata": {},
   "outputs": [],
   "source": [
    "temp = district_yrmnth_offense_tab.loc['C11']\n",
    "temp[['M/V - LEAVING SCENE - PROPERTY DAMAGE', 'INVESTIGATE PERSON',\n",
    "       'SICK/INJURED/MEDICAL - PERSON', 'VANDALISM', 'VERBAL DISPUTE',\n",
    "       'INVESTIGATE PROPERTY', 'TOWED MOTOR VEHICLE',\n",
    "       'THREATS TO DO BODILY HARM', 'ASSAULT SIMPLE - BATTERY',\n",
    "       'LARCENY THEFT FROM MV - NON-ACCESSORY', 'LARCENY SHOPLIFTING',\n",
    "       'SICK ASSIST', 'MISSING PERSON - LOCATED',\n",
    "       'LARCENY THEFT FROM BUILDING', 'WARRANT ARREST']].plot.box(vert=False, figsize=(10,10), title = \"Top 15 Incidents Reported Distribution (2017-2021): District C11 \", patch_artist=True);"
   ]
  },
  {
   "cell_type": "code",
   "execution_count": null,
   "metadata": {},
   "outputs": [],
   "source": [
    "temp = district_yrmnth_offense_tab.loc['D4']\n",
    "temp[['LARCENY SHOPLIFTING', 'INVESTIGATE PERSON',\n",
    "       'LARCENY THEFT FROM BUILDING', 'TOWED MOTOR VEHICLE',\n",
    "       'SICK/INJURED/MEDICAL - PERSON',\n",
    "       'LARCENY THEFT FROM MV - NON-ACCESSORY', 'VANDALISM',\n",
    "       'INVESTIGATE PROPERTY', 'M/V - LEAVING SCENE - PROPERTY DAMAGE',\n",
    "       'ASSAULT SIMPLE - BATTERY', 'LARCENY THEFT OF BICYCLE',\n",
    "       'LARCENY ALL OTHERS', 'PROPERTY - LOST', 'WARRANT ARREST',\n",
    "       'THREATS TO DO BODILY HARM']].plot.box(vert=False, figsize=(10,10), title = \"Top 15 Incidents Reported Distribution (2017-2021): District D4 \", patch_artist=True, );"
   ]
  },
  {
   "cell_type": "markdown",
   "metadata": {},
   "source": [
    "The results are rather surprising in my opinion. Over the course of 4-5 years, the same crimes have presisted within these four districts, and remained relativity high YoY and MoM, which is astonishing. To gain a better understanding, learning more about the location, and times these crimes are reported can help local law enforcement develop plans to subvert criminal activities. "
   ]
  },
  {
   "cell_type": "code",
   "execution_count": null,
   "metadata": {},
   "outputs": [],
   "source": [
    "# lets model time \n",
    "pd.options.display.max_rows = 999\n",
    "pd.options.display.max_columns = 999\n",
    "\n",
    "district_dow_offense_tab = pd.crosstab(columns=high_crime_locations['DISTRICT'], index=[high_crime_locations['YEAR'], high_crime_locations['DAY_OF_WEEK']])\n",
    "district_dow_offense_tab"
   ]
  },
  {
   "cell_type": "code",
   "execution_count": null,
   "metadata": {},
   "outputs": [],
   "source": [
    "district_dow_offense_tab.loc[2017].plot(kind='bar', figsize=(20,10))"
   ]
  },
  {
   "cell_type": "code",
   "execution_count": null,
   "metadata": {},
   "outputs": [],
   "source": [
    "district_dow_offense_tab.loc[2018].plot(kind='bar', figsize=(20,10))"
   ]
  },
  {
   "cell_type": "code",
   "execution_count": null,
   "metadata": {},
   "outputs": [],
   "source": [
    "district_dow_offense_tab.loc[2019].plot(kind='bar', figsize=(20,10))"
   ]
  },
  {
   "cell_type": "code",
   "execution_count": null,
   "metadata": {},
   "outputs": [],
   "source": [
    "district_dow_offense_tab.loc[2020].plot(kind='bar', figsize=(20,10))"
   ]
  },
  {
   "cell_type": "markdown",
   "metadata": {},
   "source": [
    "The results indicate soemthing interesting; most crimes occur on Wednesdays? That is very odd to be honest. What is it about Wednesday that criminals love? Nonetheless, Friday, Thursday, and Tuesday rank as the worst days of the week for at least B2 and C11. "
   ]
  },
  {
   "cell_type": "code",
   "execution_count": null,
   "metadata": {},
   "outputs": [],
   "source": [
    "pd.options.display.max_rows = 999\n",
    "pd.options.display.max_columns = 999\n",
    "district_dowyr_offense_tab = pd.crosstab(columns=[high_crime_locations['DISTRICT']], index=[high_crime_locations['YEAR'].astype('str')])\n",
    "district_dowyr_offense_tab"
   ]
  },
  {
   "cell_type": "code",
   "execution_count": null,
   "metadata": {},
   "outputs": [],
   "source": [
    "district_dowyr_offense_tab.plot(kind='barh', figsize=(20,10))"
   ]
  },
  {
   "cell_type": "code",
   "execution_count": null,
   "metadata": {},
   "outputs": [],
   "source": [
    "district_month_offense_tab = pd.crosstab(columns=high_crime_locations['DISTRICT'], index=[high_crime_locations['MONTH']])\n",
    "district_month_offense_tab"
   ]
  },
  {
   "cell_type": "code",
   "execution_count": null,
   "metadata": {},
   "outputs": [],
   "source": [
    "district_month_offense_tab.plot(figsize=(10,10), ylabel=\"Number of Crimes Reported\",title=\"Crimes Reported by Month (2017-2021)\", linewidth=2, marker='o')"
   ]
  },
  {
   "cell_type": "markdown",
   "metadata": {},
   "source": [
    "The month of October seems to be a trend. That begs to question, what is so special about this particular month; I am unaware of any holidays other than Halloween. For future consideration, it would be awesome to see what crimes are committed in October than any other month"
   ]
  },
  {
   "cell_type": "markdown",
   "metadata": {},
   "source": [
    "## Data Cleaning"
   ]
  },
  {
   "cell_type": "code",
   "execution_count": null,
   "metadata": {},
   "outputs": [],
   "source": [
    "model_data  = high_crime_locations.copy()\n",
    "model_data = model_data.reset_index()"
   ]
  },
  {
   "cell_type": "code",
   "execution_count": null,
   "metadata": {},
   "outputs": [],
   "source": [
    "model_data.describe(include='all')"
   ]
  },
  {
   "cell_type": "code",
   "execution_count": null,
   "metadata": {},
   "outputs": [],
   "source": [
    "model_data.corr()"
   ]
  },
  {
   "cell_type": "code",
   "execution_count": null,
   "metadata": {},
   "outputs": [],
   "source": [
    "plt.figure(figsize = (12,9))\n",
    "s = sns.heatmap(model_data.corr(),\n",
    "               annot = True,\n",
    "               cmap = 'RdBu',\n",
    "               vmin = -1,\n",
    "               vmax = 1)\n",
    "s.set_yticklabels(s.get_yticklabels(), rotation = 0, fontsize = 12)\n",
    "s.set_xticklabels(s.get_xticklabels(), rotation = 90, fontsize = 12)\n",
    "plt.title('Corr Heatmap')\n",
    "plt.show()"
   ]
  },
  {
   "cell_type": "code",
   "execution_count": null,
   "metadata": {},
   "outputs": [],
   "source": [
    "# Drop irrelevant columns \n",
    "model_data = model_data.drop(['level_0','index','INCIDENT_NUMBER','OFFENSE_CODE_GROUP','OFFENSE_DESCRIPTION','OCCURRED_ON_DATE','STREET','Location', 'REPORTING_AREA'], axis = 1)"
   ]
  },
  {
   "cell_type": "code",
   "execution_count": null,
   "metadata": {},
   "outputs": [],
   "source": [
    "#check missing values\n",
    "model_data.isna().sum()"
   ]
  },
  {
   "cell_type": "code",
   "execution_count": null,
   "metadata": {},
   "outputs": [],
   "source": [
    "# Map features\n",
    "model_data['DISTRICT'] = model_data['DISTRICT'].map({'C11':1, 'B3':2, 'D4':3, 'B2':4})\n",
    "model_data['UCR_PART'] = model_data['UCR_PART'].map({'Part One': 1 , 'Part Two': 2, 'Part Three': 3, 'Other': 4})\n",
    "model_data['DAY_OF_WEEK'] = model_data['DAY_OF_WEEK'].map({'Wednesday': 4, 'Tuesday': 3, 'Friday':6, 'Thursday':5, 'Sunday':1, 'Saturday':7, 'Monday':2})\n",
    "model_data['SHOOTING'] = model_data['SHOOTING'].map({'Y':1})\n",
    "model_data['SHOOTING'] = model_data['SHOOTING'].fillna(value=0) \n",
    "model_data['UCR_PART'] = model_data['UCR_PART'].fillna(value=0)\n",
    "model_data['Lat'] = model_data['Lat'].fillna(value=0)\n",
    "model_data['Long'] = model_data['Long'].fillna(value=0)"
   ]
  },
  {
   "cell_type": "code",
   "execution_count": null,
   "metadata": {},
   "outputs": [],
   "source": [
    "# double check missing values\n",
    "model_data.isna().sum()"
   ]
  },
  {
   "cell_type": "code",
   "execution_count": null,
   "metadata": {},
   "outputs": [],
   "source": [
    "plt.figure(figsize=(12,9))\n",
    "plt.scatter(model_data['Lat'], model_data['Long'])\n",
    "plt.xlabel('Lat')\n",
    "plt.ylabel('Long')\n",
    "plt.title(\"Lat and Long\")\n",
    "plt.show()"
   ]
  },
  {
   "cell_type": "markdown",
   "metadata": {},
   "source": [
    "## Modeling"
   ]
  },
  {
   "cell_type": "markdown",
   "metadata": {},
   "source": [
    "### Clustering (unscaled data)"
   ]
  },
  {
   "cell_type": "code",
   "execution_count": null,
   "metadata": {},
   "outputs": [],
   "source": [
    "# create a variable which will contain the data for clustering\n",
    "x = model_data.copy()\n",
    "# Create k-means object with 2 clusters\n",
    "kmeans = KMeans(2)\n",
    "# fit the data \n",
    "kmeans.fit(x)"
   ]
  },
  {
   "cell_type": "code",
   "execution_count": null,
   "metadata": {},
   "outputs": [],
   "source": [
    "wcss = []\n",
    "\n",
    "for i in range(1,11):\n",
    "    kmeans = KMeans(i, init = 'k-means++', random_state = 777)\n",
    "    kmeans.fit(x)\n",
    "    wcss_iter = kmeans.inertia_\n",
    "    wcss.append(wcss_iter)"
   ]
  },
  {
   "cell_type": "code",
   "execution_count": null,
   "metadata": {},
   "outputs": [],
   "source": [
    "plt.figure(figsize=(10,10))\n",
    "plt.plot(range(1,11), wcss, marker = 'o', linestyle = '--')\n",
    "plt.xlabel('Number of Clusters')\n",
    "plt.ylabel('WCSS')\n",
    "plt.title('K-means Clustering')\n",
    "plt.show()"
   ]
  },
  {
   "cell_type": "code",
   "execution_count": null,
   "metadata": {},
   "outputs": [],
   "source": [
    "clusters = kmeans.fit(x) # fit the data \n",
    "identified_clusters = kmeans.fit_predict(x) # store predicted clusters into object\n",
    "df_clusters = model_data.copy() # create new data frame\n",
    "df_clusters['Clusters'] = identified_clusters # create new column with predicted clusters\n",
    "df_clusters"
   ]
  },
  {
   "cell_type": "code",
   "execution_count": null,
   "metadata": {},
   "outputs": [],
   "source": [
    "df_clus = model_data.copy()\n",
    "df_clus['Segment K-means'] = kmeans.labels_"
   ]
  },
  {
   "cell_type": "code",
   "execution_count": null,
   "metadata": {},
   "outputs": [],
   "source": [
    "df_segment_analysis = df_clus.groupby(['Segment K-means']).mean()\n",
    "df_segment_analysis"
   ]
  },
  {
   "cell_type": "code",
   "execution_count": null,
   "metadata": {},
   "outputs": [],
   "source": [
    "df_segment_analysis['N Obs'] = df_clus[['Segment K-means', 'DISTRICT']].groupby(['Segment K-means']).count()\n",
    "df_segment_analysis['Prop Obs'] = df_segment_analysis['N Obs'] / df_segment_analysis['N Obs'].sum()\n",
    "df_segment_analysis"
   ]
  },
  {
   "cell_type": "code",
   "execution_count": null,
   "metadata": {},
   "outputs": [],
   "source": [
    "df_clus['Labels'] = df_clus['Segment K-means']"
   ]
  },
  {
   "cell_type": "code",
   "execution_count": null,
   "metadata": {},
   "outputs": [],
   "source": [
    "x_axis = df_clus['Lat']\n",
    "y_axis = df_clus['Long']\n",
    "plt.figure(figsize=(10,8))\n",
    "sns.scatterplot(x_axis, y_axis, hue = df_clus['Labels'], cmap='rainbow')\n",
    "plt.title('Segmentation K-means')\n",
    "plt.show()"
   ]
  },
  {
   "cell_type": "markdown",
   "metadata": {},
   "source": [
    "## PCA and Standardization"
   ]
  },
  {
   "cell_type": "markdown",
   "metadata": {},
   "source": [
    "### Standardize the variables "
   ]
  },
  {
   "cell_type": "code",
   "execution_count": null,
   "metadata": {},
   "outputs": [],
   "source": [
    "sd_data =  model_data.copy() # make a copy of the data set \n",
    "x = sd_data # store the feature variables object\n",
    "scaled_x = preprocessing.scale(x) #Standardize the data to have a mean of ~0 and a variance of 1\n",
    "scaled_x "
   ]
  },
  {
   "cell_type": "markdown",
   "metadata": {},
   "source": [
    "### Apply Principal Component Analysis"
   ]
  },
  {
   "cell_type": "code",
   "execution_count": null,
   "metadata": {},
   "outputs": [],
   "source": [
    "#Assign model to object\n",
    "pca = PCA()\n",
    "#fit the model \n",
    "pca.fit(scaled_x)\n",
    "# The results display the variance explained by each of the individual components\n",
    "pca.explained_variance_ratio_"
   ]
  },
  {
   "cell_type": "code",
   "execution_count": null,
   "metadata": {},
   "outputs": [],
   "source": [
    "plt.figure(figsize = (10,10))\n",
    "plt.plot(range(1,11), pca.explained_variance_ratio_.cumsum(), marker = 'o', linestyle = \"--\")\n",
    "plt.title('Explained Variance by Components')\n",
    "plt.xlabel('Number of Compenents')\n",
    "plt.ylabel('Cumulative Explained Variance')\n",
    "plt.show()"
   ]
  },
  {
   "cell_type": "code",
   "execution_count": null,
   "metadata": {},
   "outputs": [],
   "source": [
    "features = range(pca.n_components_)\n",
    "plt.bar(features, pca.explained_variance_ratio_, color='black')\n",
    "plt.title('Explained Variance by Components')\n",
    "plt.xlabel('PCA features')\n",
    "plt.ylabel('variance %')\n",
    "plt.xticks(features)\n",
    "plt.show()"
   ]
  },
  {
   "cell_type": "markdown",
   "metadata": {},
   "source": [
    "After scaling and applying PCA to the data, 4-6 components explain a majority of variance within the data. However, if I only take 4 elements, we sacrifice more than 40% of the data. Moving forward, I will use six components for the remainder of the study."
   ]
  },
  {
   "cell_type": "code",
   "execution_count": null,
   "metadata": {},
   "outputs": [],
   "source": [
    "# store compenents in a Dataframe\n",
    "pca = PCA(6)\n",
    "pca.fit(scaled_x)\n",
    "pca_comps = pca.transform(scaled_x)"
   ]
  },
  {
   "cell_type": "code",
   "execution_count": null,
   "metadata": {},
   "outputs": [],
   "source": [
    "pca.components_"
   ]
  },
  {
   "cell_type": "code",
   "execution_count": null,
   "metadata": {},
   "outputs": [],
   "source": [
    "df_comp_pca = pd.DataFrame(data = pca.components_, columns=model_data.columns.values, index = ['Component 1', 'Component 2','Component 3',\n",
    "                                                                                               'Component 4','Component 5','Component 6'])"
   ]
  },
  {
   "cell_type": "code",
   "execution_count": null,
   "metadata": {},
   "outputs": [],
   "source": [
    "df_comp_pca"
   ]
  },
  {
   "cell_type": "code",
   "execution_count": null,
   "metadata": {},
   "outputs": [],
   "source": [
    "plt.figure(figsize = (10,10))\n",
    "sns.heatmap(df_comp_pca,\n",
    "           vmin = -1,\n",
    "           vmax = 1,\n",
    "           cmap = 'RdBu',\n",
    "           annot = True)\n",
    "\n",
    "plt.yticks([0,1,2,3,4,5], ['Component 1', 'Component 2','Component 3','Component 4','Component 5','Component 6'], rotation = 45, fontsize = 9)\n",
    "plt.show()"
   ]
  },
  {
   "cell_type": "code",
   "execution_count": null,
   "metadata": {},
   "outputs": [],
   "source": [
    "pca.transform(scaled_x)"
   ]
  },
  {
   "cell_type": "code",
   "execution_count": null,
   "metadata": {},
   "outputs": [],
   "source": [
    "scores_pca = pca.transform(scaled_x)"
   ]
  },
  {
   "cell_type": "markdown",
   "metadata": {},
   "source": [
    "## Apply elbow method "
   ]
  },
  {
   "cell_type": "code",
   "execution_count": null,
   "metadata": {},
   "outputs": [],
   "source": [
    "wcss = []\n",
    "# 'cl_num' is a that keeps track the highest number of clusters we want to use the WCSS method for. We have it set at 10 right now, but it is completely arbitrary.\n",
    "cl_num = 11\n",
    "for i in range (1,cl_num):\n",
    "    kmeans_pca= KMeans(i, init='k-means++', random_state=777)\n",
    "    kmeans_pca.fit(scores_pca)\n",
    "    wcss_iter = kmeans_pca.inertia_\n",
    "    wcss.append(wcss_iter)\n",
    "    \n",
    "wcss"
   ]
  },
  {
   "cell_type": "code",
   "execution_count": null,
   "metadata": {},
   "outputs": [],
   "source": [
    "number_clusters = range(1,cl_num)\n",
    "plt.figure(figsize=(10,10))\n",
    "plt.plot(number_clusters, wcss, '-o', linestyle='--')\n",
    "plt.title('The Elbow Method')\n",
    "plt.xlabel('Number of clusters')\n",
    "plt.ylabel('Within-cluster Sum of Squares')\n",
    "plt.show()"
   ]
  },
  {
   "cell_type": "markdown",
   "metadata": {},
   "source": [
    "Based on the results from the elbow analysis, the point of interest is around 3 or 4 clusters. "
   ]
  },
  {
   "cell_type": "code",
   "execution_count": null,
   "metadata": {},
   "outputs": [],
   "source": [
    "# define the model\n",
    "kmeans_pca = KMeans(3, init='k-means++', random_state=777)\n",
    "#fit the model\n",
    "kmeans_pca.fit(scores_pca)\n",
    "# store clusters\n",
    "# final_clusters = sd_data.copy() \n",
    "# final_clusters['Clusters'] = kmeans.fit_predict(pca_comps)\n",
    "# final_clusters"
   ]
  },
  {
   "cell_type": "code",
   "execution_count": null,
   "metadata": {},
   "outputs": [],
   "source": [
    "df_seg_pca_kmeans = pd.concat([model_data.reset_index(drop=True), pd.DataFrame(scores_pca)], axis = 1)\n",
    "df_seg_pca_kmeans.columns.values[-6:] = ['Component 1', 'Component 2','Component 3','Component 4','Component 5','Component 6']\n",
    "df_seg_pca_kmeans['Segment K-means PCA'] = kmeans_pca.labels_"
   ]
  },
  {
   "cell_type": "code",
   "execution_count": null,
   "metadata": {},
   "outputs": [],
   "source": [
    "df_seg_pca_kmeans"
   ]
  },
  {
   "cell_type": "code",
   "execution_count": null,
   "metadata": {},
   "outputs": [],
   "source": [
    "df_seg_pca_kmeans_freq = df_seg_pca_kmeans.groupby(['Segment K-means PCA']).mean()\n",
    "df_seg_pca_kmeans_freq"
   ]
  },
  {
   "cell_type": "code",
   "execution_count": null,
   "metadata": {},
   "outputs": [],
   "source": [
    "df_seg_pca_kmeans_freq['N Obs'] = df_seg_pca_kmeans[['Segment K-means PCA', 'DISTRICT']].groupby(['Segment K-means PCA']).count()\n",
    "df_seg_pca_kmeans_freq['Prop Obs'] = df_seg_pca_kmeans_freq['N Obs'] / df_seg_pca_kmeans_freq['N Obs'].sum()\n",
    "df_seg_pca_kmeans_freq"
   ]
  },
  {
   "cell_type": "code",
   "execution_count": null,
   "metadata": {},
   "outputs": [],
   "source": [
    "df_seg_pca_kmeans['Labels'] = df_seg_pca_kmeans['Segment K-means PCA'].map({0:'Segment 1', 1:'Segment 2', 2:'Segment 3'})"
   ]
  },
  {
   "cell_type": "code",
   "execution_count": null,
   "metadata": {},
   "outputs": [],
   "source": [
    "x_axis = df_seg_pca_kmeans['Component 1']\n",
    "y_axis = df_seg_pca_kmeans['Component 2']\n",
    "plt.figure(figsize=(10,8))\n",
    "sns.scatterplot(x_axis, y_axis, hue = df_seg_pca_kmeans['Labels'], cmap='rainbow')\n",
    "plt.title('Segmentation K-means')\n",
    "plt.show()"
   ]
  },
  {
   "cell_type": "markdown",
   "metadata": {},
   "source": [
    "----"
   ]
  },
  {
   "cell_type": "markdown",
   "metadata": {},
   "source": [
    "Ultimately, my research unearthed some interesting findings that are worth exploring. I am very interested in how crime rates will change in the city with impending gentrification and the massive migration of city dwellers to impoverished suburban areas. All in all, nothing is ever perfect; however, the lack of accountability on the side of law enforcement and local government is astounding. We as citizens deserve to know and understand how the state plans to discourage and deter crime from these areas. Knowledge is power, and using the data effectively can create awareness and opportunities for growth in a failing system; this is one of many steps Boston Natives need to take to reclaim their neighborhoods.  "
   ]
  }
 ],
 "metadata": {
  "kernelspec": {
   "display_name": "Python 3 (ipykernel)",
   "language": "python",
   "name": "python3"
  },
  "language_info": {
   "codemirror_mode": {
    "name": "ipython",
    "version": 3
   },
   "file_extension": ".py",
   "mimetype": "text/x-python",
   "name": "python",
   "nbconvert_exporter": "python",
   "pygments_lexer": "ipython3",
   "version": "3.9.7"
  }
 },
 "nbformat": 4,
 "nbformat_minor": 4
}
